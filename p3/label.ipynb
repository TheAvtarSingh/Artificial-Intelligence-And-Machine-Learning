{
 "cells": [
  {
   "cell_type": "code",
   "execution_count": 2,
   "id": "1d204ae5-345c-43d3-a13f-9d425797cfe9",
   "metadata": {},
   "outputs": [
    {
     "data": {
      "text/plain": [
       "array([ 2.31,  7.07,  2.18,  7.87,  8.14,  5.96,  2.95,  6.91,  5.64,\n",
       "        4.  ,  1.22,  0.74,  1.32,  5.13,  1.38,  3.37,  6.07, 10.81,\n",
       "       12.83,  4.86,  4.49,  3.41, 15.04,  2.89,  8.56, 10.01, 25.65,\n",
       "       21.89, 19.58,  4.05,  2.46,  3.44,  2.93,  0.46,  1.52,  1.47,\n",
       "        2.03,  2.68, 10.59, 13.89,  6.2 ,  4.93,  5.86,  3.64,  3.75,\n",
       "        3.97,  6.96,  6.41,  3.33,  1.21,  2.97,  2.25,  1.76,  5.32,\n",
       "        4.95, 13.92,  2.24,  6.09,  9.9 ,  7.38,  3.24,  6.06,  5.19,\n",
       "        1.89,  3.78,  4.39,  4.15,  2.01,  1.25,  1.69,  2.02,  1.91,\n",
       "       18.1 , 27.74,  9.69, 11.93, 12.5 , 12.7 , 12.8 ])"
      ]
     },
     "execution_count": 2,
     "metadata": {},
     "output_type": "execute_result"
    }
   ],
   "source": [
    "import numpy as np\n",
    "import pandas as pd\n",
    "  \n",
    "# Import dataset\n",
    "df = pd.read_csv('data.csv')\n",
    "  \n",
    "df['INDUS'].unique()"
   ]
  },
  {
   "cell_type": "code",
   "execution_count": 3,
   "id": "c0ec0633-3afa-46b9-9835-d8dff60a8168",
   "metadata": {},
   "outputs": [
    {
     "data": {
      "text/plain": [
       "array([19, 56, 16, 58, 59, 48, 24, 54, 46, 35,  3,  1,  5, 43,  6, 28, 50,\n",
       "       65, 70, 40, 39, 29, 73, 22, 60, 63, 77, 76, 75, 36, 20, 30, 23,  0,\n",
       "        8,  7, 15, 21, 64, 71, 52, 41, 47, 31, 32, 34, 55, 53, 27,  2, 25,\n",
       "       18, 10, 45, 42, 72, 17, 51, 62, 57, 26, 49, 44, 11, 33, 38, 37, 13,\n",
       "        4,  9, 14, 12, 74, 78, 61, 66, 67, 68, 69], dtype=int64)"
      ]
     },
     "execution_count": 3,
     "metadata": {},
     "output_type": "execute_result"
    }
   ],
   "source": [
    "from sklearn import preprocessing\n",
    "  \n",
    "# label_encoder object knows how to understand word labels.\n",
    "label_encoder = preprocessing.LabelEncoder()\n",
    "  \n",
    "# Encode labels in column 'species'.\n",
    "df['INDUS']= label_encoder.fit_transform(df['INDUS'])\n",
    "  \n",
    "df['INDUS'].unique()"
   ]
  },
  {
   "cell_type": "code",
   "execution_count": null,
   "id": "57fb1093-3a53-48a9-b540-375d63cc66a2",
   "metadata": {},
   "outputs": [],
   "source": []
  }
 ],
 "metadata": {
  "kernelspec": {
   "display_name": "Python 3 (ipykernel)",
   "language": "python",
   "name": "python3"
  },
  "language_info": {
   "codemirror_mode": {
    "name": "ipython",
    "version": 3
   },
   "file_extension": ".py",
   "mimetype": "text/x-python",
   "name": "python",
   "nbconvert_exporter": "python",
   "pygments_lexer": "ipython3",
   "version": "3.8.7"
  }
 },
 "nbformat": 4,
 "nbformat_minor": 5
}
